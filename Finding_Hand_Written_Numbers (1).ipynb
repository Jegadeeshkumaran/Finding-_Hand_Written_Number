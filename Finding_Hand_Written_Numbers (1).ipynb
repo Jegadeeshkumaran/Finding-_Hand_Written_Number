{
 "cells": [
  {
   "cell_type": "code",
   "execution_count": 8,
   "id": "5a7c7e7d",
   "metadata": {},
   "outputs": [
    {
     "name": "stdout",
     "output_type": "stream",
     "text": [
      "^C\n",
      "Note: you may need to restart the kernel to use updated packages.\n"
     ]
    }
   ],
   "source": [
    "#pip install tensorflow"
   ]
  },
  {
   "cell_type": "code",
   "execution_count": 2,
   "id": "9468ab38",
   "metadata": {},
   "outputs": [],
   "source": [
    "import keras\n",
    "from keras.datasets import mnist\n",
    "import matplotlib.pyplot as plt\n",
    "from keras.utils import to_categorical "
   ]
  },
  {
   "cell_type": "code",
   "execution_count": 3,
   "id": "590b0eb1",
   "metadata": {},
   "outputs": [],
   "source": [
    "(x_train,y_train),(x_test,y_test)=mnist.load_data()"
   ]
  },
  {
   "cell_type": "code",
   "execution_count": 4,
   "id": "e4ed209b",
   "metadata": {},
   "outputs": [
    {
     "data": {
      "text/plain": [
       "(60000, 28, 28)"
      ]
     },
     "execution_count": 4,
     "metadata": {},
     "output_type": "execute_result"
    }
   ],
   "source": [
    "x_train.shape"
   ]
  },
  {
   "cell_type": "code",
   "execution_count": 5,
   "id": "fb9e2f6f",
   "metadata": {},
   "outputs": [
    {
     "data": {
      "image/png": "[encoded data removed]",
      "text/plain": [
       "<Figure size 144x144 with 1 Axes>"
      ]
     },
     "metadata": {
      "needs_background": "light"
     },
     "output_type": "display_data"
    }
   ],
   "source": [
    "img_id=0\n",
    "plt.figure(figsize=(2,2))\n",
    "plt.imshow(x_train[img_id],cmap='gray')\n",
    "plt.title(f\"Actual_label: {y_train[img_id]}\")\n",
    "plt.show()"
   ]
  },
  {
   "cell_type": "code",
   "execution_count": 6,
   "id": "10b7dd81",
   "metadata": {},
   "outputs": [],
   "source": [
    "#Converting the dataset (60000,28,28) into a flatten array\n",
    "x_train=x_train.reshape(60000,28*28)\n",
    "x_test=x_test.reshape(10000,28*28)"
   ]
  },
  {
   "cell_type": "code",
   "execution_count": 7,
   "id": "f8bf83f5",
   "metadata": {},
   "outputs": [],
   "source": [
    "# Applying Normalization\n",
    "x_train= x_train/255\n",
    "x_test= x_test/255"
   ]
  },
  {
   "cell_type": "code",
   "execution_count": 8,
   "id": "9711006e",
   "metadata": {},
   "outputs": [
    {
     "data": {
      "text/plain": [
       "(60000, 784)"
      ]
     },
     "execution_count": 8,
     "metadata": {},
     "output_type": "execute_result"
    }
   ],
   "source": [
    "x_train.shape"
   ]
  },
  {
   "cell_type": "code",
   "execution_count": 9,
   "id": "fa2fda10",
   "metadata": {},
   "outputs": [
    {
     "data": {
      "text/plain": [
       "(10000, 784)"
      ]
     },
     "execution_count": 9,
     "metadata": {},
     "output_type": "execute_result"
    }
   ],
   "source": [
    "x_test.shape"
   ]
  },
  {
   "cell_type": "code",
   "execution_count": 10,
   "id": "c9b38024",
   "metadata": {},
   "outputs": [],
   "source": [
    "# Applying Hot-Code Encoding\n",
    "y_train_ohe= to_categorical(y_train)\n",
    "y_test_ohe= to_categorical(y_test)"
   ]
  },
  {
   "cell_type": "markdown",
   "id": "9612bb53",
   "metadata": {},
   "source": [
    "# Building Neural Network"
   ]
  },
  {
   "cell_type": "code",
   "execution_count": 37,
   "id": "ad0ab7f2",
   "metadata": {},
   "outputs": [],
   "source": [
    "from keras.models import Sequential\n",
    "from keras.layers import Dense,BatchNormalization\n",
    "from keras.layers import LeakyReLU, ReLU, Dropout\n",
    "from keras import optimizers"
   ]
  },
  {
   "cell_type": "code",
   "execution_count": 43,
   "id": "7125f85f",
   "metadata": {},
   "outputs": [],
   "source": [
    "model= Sequential()\n",
    "model.add(Dense(392,input_dim=784))\n",
    "model.add(Dense(196,activation=LeakyReLU()))\n",
    "model.add(Dropout(0.25))\n",
    "model.add(Dense(98,activation=ReLU()))\n",
    "model.add(BatchNormalization())\n",
    "model.add(Dense(10,activation='Softmax')) # As it is Multiclass Clasification Problem"
   ]
  },
  {
   "cell_type": "code",
   "execution_count": 44,
   "id": "bc3df9e6",
   "metadata": {},
   "outputs": [],
   "source": [
    "model.compile(optimizers.SGD(learning_rate=0.01),\n",
    "              loss='categorical_crossentropy',\n",
    "              metrics=['accuracy'])"
   ]
  },
  {
   "cell_type": "code",
   "execution_count": 45,
   "id": "26f37e5c",
   "metadata": {},
   "outputs": [
    {
     "name": "stdout",
     "output_type": "stream",
     "text": [
      "Epoch 1/40\n",
      "30/30 [==============================] - 2s 62ms/step - loss: 1.7213 - accuracy: 0.4508 - val_loss: 1.7211 - val_accuracy: 0.5747\n",
      "Epoch 2/40\n",
      "30/30 [==============================] - 2s 51ms/step - loss: 0.9267 - accuracy: 0.7182 - val_loss: 1.4203 - val_accuracy: 0.7704\n",
      "Epoch 3/40\n",
      "30/30 [==============================] - 2s 55ms/step - loss: 0.7234 - accuracy: 0.7858 - val_loss: 1.1955 - val_accuracy: 0.8394\n",
      "Epoch 4/40\n",
      "30/30 [==============================] - 2s 69ms/step - loss: 0.6247 - accuracy: 0.8178 - val_loss: 1.0072 - val_accuracy: 0.8672\n",
      "Epoch 5/40\n",
      "30/30 [==============================] - 2s 71ms/step - loss: 0.5583 - accuracy: 0.8381 - val_loss: 0.8540 - val_accuracy: 0.8782\n",
      "Epoch 6/40\n",
      "30/30 [==============================] - 2s 80ms/step - loss: 0.5167 - accuracy: 0.8496 - val_loss: 0.7254 - val_accuracy: 0.8897\n",
      "Epoch 7/40\n",
      "30/30 [==============================] - 2s 73ms/step - loss: 0.4824 - accuracy: 0.8619 - val_loss: 0.6194 - val_accuracy: 0.8955\n",
      "Epoch 8/40\n",
      "30/30 [==============================] - 2s 82ms/step - loss: 0.4591 - accuracy: 0.8671 - val_loss: 0.5348 - val_accuracy: 0.9006\n",
      "Epoch 9/40\n",
      "30/30 [==============================] - 3s 102ms/step - loss: 0.4378 - accuracy: 0.8748 - val_loss: 0.4713 - val_accuracy: 0.9043\n",
      "Epoch 10/40\n",
      "30/30 [==============================] - 3s 110ms/step - loss: 0.4175 - accuracy: 0.8803 - val_loss: 0.4210 - val_accuracy: 0.9079\n",
      "Epoch 11/40\n",
      "30/30 [==============================] - 3s 118ms/step - loss: 0.4020 - accuracy: 0.8842 - val_loss: 0.3827 - val_accuracy: 0.9114\n",
      "Epoch 12/40\n",
      "30/30 [==============================] - 3s 96ms/step - loss: 0.3890 - accuracy: 0.8885 - val_loss: 0.3541 - val_accuracy: 0.9148\n",
      "Epoch 13/40\n",
      "30/30 [==============================] - 3s 112ms/step - loss: 0.3775 - accuracy: 0.8923 - val_loss: 0.3319 - val_accuracy: 0.9165\n",
      "Epoch 14/40\n",
      "30/30 [==============================] - 3s 116ms/step - loss: 0.3679 - accuracy: 0.8942 - val_loss: 0.3152 - val_accuracy: 0.9184\n",
      "Epoch 15/40\n",
      "30/30 [==============================] - 3s 115ms/step - loss: 0.3562 - accuracy: 0.8986 - val_loss: 0.3016 - val_accuracy: 0.9203\n",
      "Epoch 16/40\n",
      "30/30 [==============================] - 4s 128ms/step - loss: 0.3505 - accuracy: 0.9009 - val_loss: 0.2907 - val_accuracy: 0.9222\n",
      "Epoch 17/40\n",
      "30/30 [==============================] - 3s 106ms/step - loss: 0.3390 - accuracy: 0.9042 - val_loss: 0.2815 - val_accuracy: 0.9238\n",
      "Epoch 18/40\n",
      "30/30 [==============================] - 3s 110ms/step - loss: 0.3338 - accuracy: 0.9051 - val_loss: 0.2734 - val_accuracy: 0.9249\n",
      "Epoch 19/40\n",
      "30/30 [==============================] - 3s 112ms/step - loss: 0.3288 - accuracy: 0.9051 - val_loss: 0.2665 - val_accuracy: 0.9265\n",
      "Epoch 20/40\n",
      "30/30 [==============================] - 4s 141ms/step - loss: 0.3203 - accuracy: 0.9092 - val_loss: 0.2606 - val_accuracy: 0.9280\n",
      "Epoch 21/40\n",
      "30/30 [==============================] - 5s 152ms/step - loss: 0.3135 - accuracy: 0.9110 - val_loss: 0.2558 - val_accuracy: 0.9294\n",
      "Epoch 22/40\n",
      "30/30 [==============================] - 5s 156ms/step - loss: 0.3089 - accuracy: 0.9120 - val_loss: 0.2508 - val_accuracy: 0.9301\n",
      "Epoch 23/40\n",
      "30/30 [==============================] - 5s 155ms/step - loss: 0.3082 - accuracy: 0.9120 - val_loss: 0.2458 - val_accuracy: 0.9316\n",
      "Epoch 24/40\n",
      "30/30 [==============================] - 4s 140ms/step - loss: 0.2992 - accuracy: 0.9145 - val_loss: 0.2421 - val_accuracy: 0.9330\n",
      "Epoch 25/40\n",
      "30/30 [==============================] - 5s 160ms/step - loss: 0.2966 - accuracy: 0.9161 - val_loss: 0.2380 - val_accuracy: 0.9338\n",
      "Epoch 26/40\n",
      "30/30 [==============================] - 5s 158ms/step - loss: 0.2912 - accuracy: 0.9173 - val_loss: 0.2344 - val_accuracy: 0.9352\n",
      "Epoch 27/40\n",
      "30/30 [==============================] - 5s 157ms/step - loss: 0.2880 - accuracy: 0.9178 - val_loss: 0.2316 - val_accuracy: 0.9355\n",
      "Epoch 28/40\n",
      "30/30 [==============================] - 4s 147ms/step - loss: 0.2849 - accuracy: 0.9179 - val_loss: 0.2288 - val_accuracy: 0.9364\n",
      "Epoch 29/40\n",
      "30/30 [==============================] - 4s 140ms/step - loss: 0.2798 - accuracy: 0.9205 - val_loss: 0.2255 - val_accuracy: 0.9376\n",
      "Epoch 30/40\n",
      "30/30 [==============================] - 5s 160ms/step - loss: 0.2772 - accuracy: 0.9207 - val_loss: 0.2231 - val_accuracy: 0.9384\n",
      "Epoch 31/40\n",
      "30/30 [==============================] - 5s 157ms/step - loss: 0.2736 - accuracy: 0.9222 - val_loss: 0.2209 - val_accuracy: 0.9388\n",
      "Epoch 32/40\n",
      "30/30 [==============================] - 5s 158ms/step - loss: 0.2700 - accuracy: 0.9230 - val_loss: 0.2178 - val_accuracy: 0.9396\n",
      "Epoch 33/40\n",
      "30/30 [==============================] - 5s 155ms/step - loss: 0.2660 - accuracy: 0.9251 - val_loss: 0.2156 - val_accuracy: 0.9404\n",
      "Epoch 34/40\n",
      "30/30 [==============================] - 5s 179ms/step - loss: 0.2622 - accuracy: 0.9251 - val_loss: 0.2131 - val_accuracy: 0.9407\n",
      "Epoch 35/40\n",
      "30/30 [==============================] - 4s 148ms/step - loss: 0.2620 - accuracy: 0.9258 - val_loss: 0.2109 - val_accuracy: 0.9419\n",
      "Epoch 36/40\n",
      "30/30 [==============================] - 5s 169ms/step - loss: 0.2598 - accuracy: 0.9261 - val_loss: 0.2087 - val_accuracy: 0.9428\n",
      "Epoch 37/40\n",
      "30/30 [==============================] - 5s 171ms/step - loss: 0.2561 - accuracy: 0.9269 - val_loss: 0.2062 - val_accuracy: 0.9432\n",
      "Epoch 38/40\n",
      "30/30 [==============================] - 4s 145ms/step - loss: 0.2551 - accuracy: 0.9275 - val_loss: 0.2045 - val_accuracy: 0.9435\n",
      "Epoch 39/40\n",
      "30/30 [==============================] - 4s 146ms/step - loss: 0.2497 - accuracy: 0.9286 - val_loss: 0.2030 - val_accuracy: 0.9441\n",
      "Epoch 40/40\n",
      "30/30 [==============================] - 4s 144ms/step - loss: 0.2472 - accuracy: 0.9298 - val_loss: 0.2012 - val_accuracy: 0.9441\n"
     ]
    },
    {
     "data": {
      "text/plain": [
       "<keras.callbacks.History at 0x1e08172bdc0>"
      ]
     },
     "execution_count": 45,
     "metadata": {},
     "output_type": "execute_result"
    }
   ],
   "source": [
    "model.fit(x=x_train,\n",
    "         y=y_train_ohe,\n",
    "         batch_size=2000,\n",
    "         epochs=40,\n",
    "         validation_data=(x_test,y_test_ohe))          "
   ]
  },
  {
   "cell_type": "code",
   "execution_count": 46,
   "id": "e20ae757",
   "metadata": {},
   "outputs": [
    {
     "data": {
      "image/png": "[encoded data removed]",
      "text/plain": [
       "<Figure size 432x288 with 1 Axes>"
      ]
     },
     "metadata": {
      "needs_background": "light"
     },
     "output_type": "display_data"
    }
   ],
   "source": [
    "plt.plot(model.history.history['val_accuracy'])\n",
    "plt.plot(model.history.history['accuracy'])\n",
    "plt.legend(['Validation-Accuracy', 'Test-Accuracy'])\n",
    "plt.title(\"Accuracy-Measure\")\n",
    "plt.xlabel(\"EPOCH#\")\n",
    "plt.ylabel(\"Accuracy\")\n",
    "plt.grid()\n",
    "plt.show()"
   ]
  },
  {
   "cell_type": "code",
   "execution_count": 47,
   "id": "2a7f0ec7",
   "metadata": {},
   "outputs": [
    {
     "data": {
      "image/png": "[encoded data removed]",
      "text/plain": [
       "<Figure size 432x288 with 1 Axes>"
      ]
     },
     "metadata": {
      "needs_background": "light"
     },
     "output_type": "display_data"
    }
   ],
   "source": [
    "plt.plot(model.history.history['val_loss'])\n",
    "plt.plot(model.history.history['loss'])\n",
    "plt.legend(['Validation-loss', 'Test-loss'])\n",
    "plt.title(\"Loss\")\n",
    "plt.xlabel(\"EPOCH#\")\n",
    "plt.ylabel(\"Loss\")\n",
    "plt.grid()\n",
    "plt.show()"
   ]
  },
  {
   "cell_type": "markdown",
   "id": "b1bceaae",
   "metadata": {},
   "source": [
    "# Prediction"
   ]
  },
  {
   "cell_type": "code",
   "execution_count": 48,
   "id": "dec25424",
   "metadata": {},
   "outputs": [],
   "source": [
    "import numpy as np"
   ]
  },
  {
   "cell_type": "code",
   "execution_count": 49,
   "id": "3532e78b",
   "metadata": {},
   "outputs": [
    {
     "data": {
      "text/plain": [
       "(1, 784)"
      ]
     },
     "execution_count": 49,
     "metadata": {},
     "output_type": "execute_result"
    }
   ],
   "source": [
    "x_test[660].reshape(-1,784).shape"
   ]
  },
  {
   "cell_type": "code",
   "execution_count": 51,
   "id": "41adcb92",
   "metadata": {},
   "outputs": [
    {
     "name": "stdout",
     "output_type": "stream",
     "text": [
      "1/1 [==============================] - 0s 85ms/step\n"
     ]
    }
   ],
   "source": [
    "pred=model.predict(x_test[660].reshape(-1,784))"
   ]
  },
  {
   "cell_type": "code",
   "execution_count": 52,
   "id": "6be82294",
   "metadata": {},
   "outputs": [
    {
     "data": {
      "text/plain": [
       "array([[6.2164688e-04, 1.2591849e-04, 1.7028341e-02, 1.3360652e-04,\n",
       "        9.7853082e-01, 4.4047221e-04, 1.2976278e-03, 8.4453676e-04,\n",
       "        7.4575000e-05, 9.0247759e-04]], dtype=float32)"
      ]
     },
     "execution_count": 52,
     "metadata": {},
     "output_type": "execute_result"
    }
   ],
   "source": [
    "pred"
   ]
  },
  {
   "cell_type": "code",
   "execution_count": 53,
   "id": "6ed96d34",
   "metadata": {},
   "outputs": [
    {
     "data": {
      "text/plain": [
       "4"
      ]
     },
     "execution_count": 53,
     "metadata": {},
     "output_type": "execute_result"
    }
   ],
   "source": [
    "np.argmax(pred)"
   ]
  },
  {
   "cell_type": "code",
   "execution_count": 54,
   "id": "232cd638",
   "metadata": {},
   "outputs": [
    {
     "data": {
      "image/png": "[encoded data removed]",
      "text/plain": [
       "<Figure size 432x288 with 1 Axes>"
      ]
     },
     "metadata": {
      "needs_background": "light"
     },
     "output_type": "display_data"
    }
   ],
   "source": [
    "plt.imshow(x_test[660].reshape(28,28),cmap='gray')\n",
    "plt.show()"
   ]
  },
  {
   "cell_type": "code",
   "execution_count": null,
   "id": "0bd04206",
   "metadata": {},
   "outputs": [],
   "source": []
  }
 ],
 "metadata": {
  "kernelspec": {
   "display_name": "Python 3",
   "language": "python",
   "name": "python3"
  },
  "language_info": {
   "codemirror_mode": {
    "name": "ipython",
    "version": 3
   },
   "file_extension": ".py",
   "mimetype": "text/x-python",
   "name": "python",
   "nbconvert_exporter": "python",
   "pygments_lexer": "ipython3",
   "version": "3.8.8"
  }
 },
 "nbformat": 4,
 "nbformat_minor": 5
}
